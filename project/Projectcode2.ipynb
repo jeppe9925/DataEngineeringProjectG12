{
 "cells": [
  {
   "cell_type": "code",
   "execution_count": 1,
   "id": "85fff12a-5a0b-4dc0-99c2-e6e8bba36abc",
   "metadata": {},
   "outputs": [
    {
     "name": "stderr",
     "output_type": "stream",
     "text": [
      "WARNING: An illegal reflective access operation has occurred\n",
      "WARNING: Illegal reflective access by org.apache.spark.unsafe.Platform (file:/home/ubuntu/spark-3.2.1-bin-hadoop3.2/jars/spark-unsafe_2.12-3.2.1.jar) to constructor java.nio.DirectByteBuffer(long,int)\n",
      "WARNING: Please consider reporting this to the maintainers of org.apache.spark.unsafe.Platform\n",
      "WARNING: Use --illegal-access=warn to enable warnings of further illegal reflective access operations\n",
      "WARNING: All illegal access operations will be denied in a future release\n",
      "Using Spark's default log4j profile: org/apache/spark/log4j-defaults.properties\n",
      "Setting default log level to \"WARN\".\n",
      "To adjust logging level use sc.setLogLevel(newLevel). For SparkR, use setLogLevel(newLevel).\n",
      "22/03/24 21:48:25 WARN NativeCodeLoader: Unable to load native-hadoop library for your platform... using builtin-java classes where applicable\n",
      "22/03/24 21:48:27 WARN ExecutorAllocationManager: Dynamic allocation without a shuffle service is an experimental feature.\n"
     ]
    }
   ],
   "source": [
    "from pyspark.sql import SparkSession\n",
    "from operator import add\n",
    "# spark://192.168.2.101:7077\n",
    "# New API\n",
    "spark_session = SparkSession\\\n",
    "        .builder\\\n",
    "        .master(\"spark://192.168.2.101:7077\") \\\n",
    "        .appName(\"Group12-project_2\")\\\n",
    "        .config(\"spark.executor.cores\",4)\\\n",
    "        .config(\"spark.dynamicAllocation.enabled\", True)\\\n",
    "        .config(\"spark.dynamicAllocation.shuffleTracking.enabled\", True)\\\n",
    "        .config(\"spark.shuffle.service.enabled\", False)\\\n",
    "        .config(\"spark.dynamicAllocation.executorIdleTimeout\",\"30s\")\\\n",
    "        .config(\"spark.driver.port\",9998)\\\n",
    "        .config(\"spark.blockManager.port\",10005)\\\n",
    "        .getOrCreate()"
   ]
  },
  {
   "cell_type": "code",
   "execution_count": 2,
   "id": "453334ee-30ab-4daa-a93f-be33b99e03cb",
   "metadata": {},
   "outputs": [],
   "source": [
    "# Old API (RDD)\n",
    "spark_context = spark_session.sparkContext\n",
    "\n",
    "spark_context.setLogLevel(\"ERROR\")"
   ]
  },
  {
   "cell_type": "code",
   "execution_count": 3,
   "id": "1201a740-6d65-4a7f-a6dc-fe22264e03be",
   "metadata": {},
   "outputs": [
    {
     "name": "stderr",
     "output_type": "stream",
     "text": [
      "                                                                                \r"
     ]
    }
   ],
   "source": [
    "data_frame = spark_session.read\\\n",
    "            .option(\"header\", \"true\")\\\n",
    "            .json(\"hdfs://localhost:9000/user/ubuntu/project/RC_2010-02\")\\\n",
    "            .cache()"
   ]
  },
  {
   "cell_type": "code",
   "execution_count": 4,
   "id": "72fbf4b3-dae7-4a29-8a7b-d64ab9107e73",
   "metadata": {},
   "outputs": [],
   "source": [
    "from pyspark.sql.functions import countDistinct\n",
    "from pyspark.sql.functions import *\n",
    "import pandas as pd\n",
    "import matplotlib.pyplot as plot\n",
    "import numpy as np\n",
    "import matplotlib.pyplot as plt\n",
    "import pyspark.sql.functions as f"
   ]
  },
  {
   "cell_type": "code",
   "execution_count": 5,
   "id": "ffcf8f3a-9ac2-4d4b-9434-269df95e4e86",
   "metadata": {},
   "outputs": [
    {
     "name": "stderr",
     "output_type": "stream",
     "text": [
      "[Stage 1:>                                                          (0 + 1) / 1]\r"
     ]
    },
    {
     "name": "stdout",
     "output_type": "stream",
     "text": [
      "+--------+----------+----------------------+-----------------+--------------------+----------------+-----------+-------------+-----+------+------+-------+--------+----------+----------+------------+-----+------------+----------+------------+---+\n",
      "|archived|    author|author_flair_css_class|author_flair_text|                body|controversiality|created_utc|distinguished|downs|edited|gilded|     id| link_id|      name| parent_id|retrieved_on|score|score_hidden| subreddit|subreddit_id|ups|\n",
      "+--------+----------+----------------------+-----------------+--------------------+----------------+-----------+-------------+-----+------+------+-------+--------+----------+----------+------------+-----+------------+----------+------------+---+\n",
      "|    true|     norm_|                  null|             null|He is. Also, his ...|               0| 1264982400|         null|    0| false|     0|c0jr1nx|t3_aw8ym|t1_c0jr1nx|t1_c0jqo1t|  1426200887|   -5|       false|     Music|    t5_2qh1u| -5|\n",
      "|    true|      wh44|                  null|             null|Well, certainly t...|               0| 1264982403|         null|    0| false|     0|c0jr1ny|t3_awecv|t1_c0jr1ny|  t3_awecv|  1426200887|    4|       false| AskReddit|    t5_2qh1i|  4|\n",
      "|    true| karmanaut|                  null|             null|[Here](http://img...|               0| 1264982404|         null|    0| false|     0|c0jr1nz|t3_awgir|t1_c0jr1nz|  t3_awgir|  1426200887|    4|       false| AskReddit|    t5_2qh1i|  4|\n",
      "|    true|HeegeMcGee|                  null|             null|Even with the new...|               0| 1264982404|         null|    0| false|     0|c0jr1o0|t3_awghm|t1_c0jr1o0|t1_c0jr1ce|  1426200887|    3|       false|reddit.com|        t5_6|  3|\n",
      "|    true|  ricemilk|                  null|             null|Totally on the sa...|               0| 1264982404|         null|    0| false|     0|c0jr1o1|t3_awex0|t1_c0jr1o1|  t3_awex0|  1426200887|    1|       false|philosophy|    t5_2qh5b|  1|\n",
      "+--------+----------+----------------------+-----------------+--------------------+----------------+-----------+-------------+-----+------+------+-------+--------+----------+----------+------------+-----+------------+----------+------------+---+\n",
      "only showing top 5 rows\n",
      "\n"
     ]
    },
    {
     "name": "stderr",
     "output_type": "stream",
     "text": [
      "                                                                                \r"
     ]
    }
   ],
   "source": [
    "data_frame.show(5)"
   ]
  },
  {
   "cell_type": "code",
   "execution_count": 6,
   "id": "90866b1d-62c8-4faf-9acd-eec8b448b2dc",
   "metadata": {},
   "outputs": [
    {
     "name": "stdout",
     "output_type": "stream",
     "text": [
      "+----------+--------------------+----------------+-----+-----+------------+----------+\n",
      "|    author|                body|controversiality|downs|score|score_hidden| subreddit|\n",
      "+----------+--------------------+----------------+-----+-----+------------+----------+\n",
      "|     norm_|He is. Also, his ...|               0|    0|   -5|       false|     Music|\n",
      "|      wh44|Well, certainly t...|               0|    0|    4|       false| AskReddit|\n",
      "| karmanaut|[Here](http://img...|               0|    0|    4|       false| AskReddit|\n",
      "|HeegeMcGee|Even with the new...|               0|    0|    3|       false|reddit.com|\n",
      "|  ricemilk|Totally on the sa...|               0|    0|    1|       false|philosophy|\n",
      "+----------+--------------------+----------------+-----+-----+------------+----------+\n",
      "only showing top 5 rows\n",
      "\n"
     ]
    }
   ],
   "source": [
    "data_frame = data_frame.drop('author_flair_css_class', 'distinguished', 'author_flair_text', 'edited', 'gilded', 'link_id','parent_id', 'subreddit_id', 'removal_reason', 'name', 'id', 'archived', 'ups', 'created_utc', 'retrieved_on' )\n",
    "data_frame.show(5)"
   ]
  },
  {
   "cell_type": "code",
   "execution_count": 7,
   "id": "ac2db116-2052-499f-bd0c-2f93303abaaf",
   "metadata": {},
   "outputs": [
    {
     "name": "stderr",
     "output_type": "stream",
     "text": [
      "[Stage 3:====================================================>    (11 + 1) / 12]\r"
     ]
    },
    {
     "name": "stdout",
     "output_type": "stream",
     "text": [
      "+-------------------+--------------------+----------------+-----+-----+------------+------------+\n",
      "|             author|                body|controversiality|downs|score|score_hidden|   subreddit|\n",
      "+-------------------+--------------------+----------------+-----+-----+------------+------------+\n",
      "|            Saydrah|I upvoted you, bu...|               0|    0|-1845|       false|  reddit.com|\n",
      "|   4Chan_Ambassador|So how long befor...|               0|    0| -472|       false|        pics|\n",
      "|              Xhail|                Pics|               0|    0| -322|       false|        pics|\n",
      "|              Xhail|God damn thats sexy.|               0|    0| -291|       false|        pics|\n",
      "|WWWWWWWWWWWWWWWWWWW|THATS OVER 9000!!...|               0|    0| -268|       false|        pics|\n",
      "|            Saydrah|I'm not going to ...|               0|    0| -227|       false|  reddit.com|\n",
      "|        powerdeamon|You know what, my...|               0|    0| -218|       false|        pics|\n",
      "|          [deleted]|           [deleted]|               0|    0| -217|       false|        pics|\n",
      "|          nopaniers|Skeptic is a euph...|               0|    0| -195|       false|Christianity|\n",
      "|               Unfa|     Dating already?|               0|    0| -192|       false|        IAmA|\n",
      "|        powerdeamon|It doesn't bother...|               0|    0| -166|       false|        pics|\n",
      "|          [deleted]|           [deleted]|               0|    0| -160|       false|    politics|\n",
      "|          [deleted]|           [deleted]|               0|    0| -151|       false|        pics|\n",
      "|        powerdeamon|I'll leave that t...|               0|    0| -146|       false|        pics|\n",
      "|          [deleted]|           [deleted]|               0|    0| -144|       false|    politics|\n",
      "|          [deleted]|We must immediate...|               0|    0| -144|       false|    politics|\n",
      "|          Kardlonoc|Man I am fucking ...|               0|    0| -135|       false|  technology|\n",
      "|        powerdeamon|Cram it with waln...|               0|    0| -132|       false|        pics|\n",
      "|    Palin_Beck_2012|Again, that is an...|               0|    0| -129|       false|   worldnews|\n",
      "|          [deleted]|           [deleted]|               0|    0| -128|       false|    politics|\n",
      "|          [deleted]|           [deleted]|               0|    0| -127|       false|    politics|\n",
      "|          [deleted]|           [deleted]|               0|    0| -127|       false|        IAmA|\n",
      "|    Palin_Beck_2012|Yes. Equating a p...|               0|    0| -126|       false|     atheism|\n",
      "|            lukebox|No you weren't. Y...|               0|    0| -124|       false|        IAmA|\n",
      "|         janey24516|Good job exploiti...|               0|    0| -121|       false|        IAmA|\n",
      "|          [deleted]|&gt; We can stop ...|               0|    0| -116|       false|    politics|\n",
      "|    Palin_Beck_2012|More hypocritical...|               0|    0| -115|       false|   worldnews|\n",
      "|              brsnr|Just say the fuck...|               0|    0| -115|       false|      coding|\n",
      "|     funwithphobias|why does this hav...|               0|    0| -114|       false|        IAmA|\n",
      "|   reddithatesjews7|I havent bought a...|               0|    0| -113|       false|      gaming|\n",
      "+-------------------+--------------------+----------------+-----+-----+------------+------------+\n",
      "only showing top 30 rows\n",
      "\n"
     ]
    },
    {
     "name": "stderr",
     "output_type": "stream",
     "text": [
      "                                                                                \r"
     ]
    }
   ],
   "source": [
    "data_frame.sort(col(\"score\")).show(30)"
   ]
  },
  {
   "cell_type": "code",
   "execution_count": 8,
   "id": "6c59dcfe-b998-4517-a535-47464f8f6e39",
   "metadata": {},
   "outputs": [],
   "source": [
    "reddit_contro = data_frame.drop('downs')"
   ]
  },
  {
   "cell_type": "code",
   "execution_count": 9,
   "id": "69aebc78-c276-4d1f-a952-5c892b15c937",
   "metadata": {},
   "outputs": [
    {
     "name": "stderr",
     "output_type": "stream",
     "text": [
      "[Stage 4:===========================================>              (9 + 3) / 12]\r"
     ]
    },
    {
     "name": "stdout",
     "output_type": "stream",
     "text": [
      "+-------------------+--------------------+----------------+-----+------------+------------+\n",
      "|             author|                body|controversiality|score|score_hidden|   subreddit|\n",
      "+-------------------+--------------------+----------------+-----+------------+------------+\n",
      "|            Saydrah|I upvoted you, bu...|               0|-1845|       false|  reddit.com|\n",
      "|   4Chan_Ambassador|So how long befor...|               0| -472|       false|        pics|\n",
      "|              Xhail|                Pics|               0| -322|       false|        pics|\n",
      "|              Xhail|God damn thats sexy.|               0| -291|       false|        pics|\n",
      "|WWWWWWWWWWWWWWWWWWW|THATS OVER 9000!!...|               0| -268|       false|        pics|\n",
      "|            Saydrah|I'm not going to ...|               0| -227|       false|  reddit.com|\n",
      "|        powerdeamon|You know what, my...|               0| -218|       false|        pics|\n",
      "|          [deleted]|           [deleted]|               0| -217|       false|        pics|\n",
      "|          nopaniers|Skeptic is a euph...|               0| -195|       false|Christianity|\n",
      "|               Unfa|     Dating already?|               0| -192|       false|        IAmA|\n",
      "|        powerdeamon|It doesn't bother...|               0| -166|       false|        pics|\n",
      "|          [deleted]|           [deleted]|               0| -160|       false|    politics|\n",
      "|          [deleted]|           [deleted]|               0| -151|       false|        pics|\n",
      "|        powerdeamon|I'll leave that t...|               0| -146|       false|        pics|\n",
      "|          [deleted]|We must immediate...|               0| -144|       false|    politics|\n",
      "|          [deleted]|           [deleted]|               0| -144|       false|    politics|\n",
      "|          Kardlonoc|Man I am fucking ...|               0| -135|       false|  technology|\n",
      "|        powerdeamon|Cram it with waln...|               0| -132|       false|        pics|\n",
      "|    Palin_Beck_2012|Again, that is an...|               0| -129|       false|   worldnews|\n",
      "|          [deleted]|           [deleted]|               0| -128|       false|    politics|\n",
      "|          [deleted]|           [deleted]|               0| -127|       false|        IAmA|\n",
      "|          [deleted]|           [deleted]|               0| -127|       false|    politics|\n",
      "|    Palin_Beck_2012|Yes. Equating a p...|               0| -126|       false|     atheism|\n",
      "|            lukebox|No you weren't. Y...|               0| -124|       false|        IAmA|\n",
      "|         janey24516|Good job exploiti...|               0| -121|       false|        IAmA|\n",
      "|          [deleted]|&gt; We can stop ...|               0| -116|       false|    politics|\n",
      "|    Palin_Beck_2012|More hypocritical...|               0| -115|       false|   worldnews|\n",
      "|              brsnr|Just say the fuck...|               0| -115|       false|      coding|\n",
      "|     funwithphobias|why does this hav...|               0| -114|       false|        IAmA|\n",
      "|   reddithatesjews7|I havent bought a...|               0| -113|       false|      gaming|\n",
      "+-------------------+--------------------+----------------+-----+------------+------------+\n",
      "only showing top 30 rows\n",
      "\n"
     ]
    },
    {
     "name": "stderr",
     "output_type": "stream",
     "text": [
      "                                                                                \r"
     ]
    }
   ],
   "source": [
    "reddit_contro.orderBy(col(\"controversiality\").desc(), col(\"score\").asc()).show(30)"
   ]
  },
  {
   "cell_type": "code",
   "execution_count": 10,
   "id": "555ed9d8-0644-4472-aed1-a6c9fee74b54",
   "metadata": {},
   "outputs": [
    {
     "name": "stderr",
     "output_type": "stream",
     "text": [
      "                                                                                \r"
     ]
    },
    {
     "name": "stdout",
     "output_type": "stream",
     "text": [
      "+--------------+--------------------+----------------+-----+------------+-----------+\n",
      "|        author|                body|controversiality|score|score_hidden|  subreddit|\n",
      "+--------------+--------------------+----------------+-----+------------+-----------+\n",
      "|         norm_|He is. Also, his ...|               0|   -5|       false|      Music|\n",
      "|      Asystole|WHAT. Are you ser...|               0|   -5|       false|     gaming|\n",
      "|      hydropsy|Also see the whit...|               0|   -2|       false|   politics|\n",
      "|BabylonDrifter|1.  Agreed, but i...|               0|   -7|       false|environment|\n",
      "|     [deleted]|Several of the po...|               0|   -5|       false|Libertarian|\n",
      "+--------------+--------------------+----------------+-----+------------+-----------+\n",
      "only showing top 5 rows\n",
      "\n"
     ]
    }
   ],
   "source": [
    "#Are most of the downvoted comments created by the same author?\n",
    "negativ = reddit_contro.filter(col(\"score\") < 0)\n",
    "num_negativ = negativ.count()\n",
    "# Controversial comments count\n",
    "negativ_names = negativ.filter(reddit_contro.body != \"[deleted]\")\n",
    "negativ_names.show(5)"
   ]
  },
  {
   "cell_type": "code",
   "execution_count": 11,
   "id": "0793a088-0998-4e25-a227-1a0209a8cd37",
   "metadata": {},
   "outputs": [
    {
     "name": "stderr",
     "output_type": "stream",
     "text": [
      "[Stage 9:====================================================>    (11 + 1) / 12]\r"
     ]
    },
    {
     "name": "stdout",
     "output_type": "stream",
     "text": [
      "+---------------+-----+\n",
      "|         author|count|\n",
      "+---------------+-----+\n",
      "|      [deleted]|23586|\n",
      "|       BlueRock|  470|\n",
      "|    insomniac84|  322|\n",
      "|       angryboy|  295|\n",
      "|  disinforeddit|  266|\n",
      "|        selwonk|  236|\n",
      "|     AnnArchist|  227|\n",
      "|     malcontent|  198|\n",
      "|     moonflower|  189|\n",
      "|        MrOhHai|  147|\n",
      "|Palin_Beck_2012|  137|\n",
      "|         matts2|  137|\n",
      "| Confucius_says|  133|\n",
      "|    StoneCypher|  127|\n",
      "|      pitofdoom|  127|\n",
      "|NoMoreNicksLeft|  122|\n",
      "|          daysi|  121|\n",
      "|      thedude37|  120|\n",
      "|     punterjohn|  107|\n",
      "|    eaturbrainz|  106|\n",
      "+---------------+-----+\n",
      "only showing top 20 rows\n",
      "\n"
     ]
    },
    {
     "name": "stderr",
     "output_type": "stream",
     "text": [
      "                                                                                \r"
     ]
    }
   ],
   "source": [
    "author = negativ_names.groupBy('author').count()\n",
    "author.sort(col(\"count\").desc()).show(20)"
   ]
  },
  {
   "cell_type": "code",
   "execution_count": 12,
   "id": "9d57f3b7-e58e-4177-87e4-c6d2ce733a08",
   "metadata": {},
   "outputs": [
    {
     "name": "stderr",
     "output_type": "stream",
     "text": [
      "                                                                                \r"
     ]
    },
    {
     "data": {
      "image/png": "[encoded data removed]",
      "text/plain": [
       "<Figure size 864x576 with 1 Axes>"
      ]
     },
     "metadata": {
      "needs_background": "light"
     },
     "output_type": "display_data"
    }
   ],
   "source": [
    "author = author.filter(col(\"count\") > 99)\n",
    "author = author.filter(author.author != \"\")\n",
    "\n",
    "# Create arrays for the plot\n",
    "author2 = author.select('author').rdd.flatMap(lambda x: x).collect()\n",
    "x_pos = np.arange(len(author2))\n",
    "occ = author.select('count').rdd.flatMap(lambda x: x).collect()\n",
    "\n",
    "#build the plot\n",
    "fig, ax = plt.subplots(figsize=(12,8))\n",
    "ax.bar(x_pos, occ, align='center', alpha=0.5)\n",
    "ax.set_ylabel('Count of users')\n",
    "ax.set_xticks(x_pos)\n",
    "ax.set_xticklabels(author2, rotation='vertical')\n",
    "ax.set_title('Frequent usernames posting downvoted comments')\n",
    "ax.yaxis.grid(True)\n",
    "plt.show()"
   ]
  },
  {
   "cell_type": "code",
   "execution_count": 13,
   "id": "ad61e330-7a38-4659-84f5-282efe9183db",
   "metadata": {},
   "outputs": [
    {
     "name": "stderr",
     "output_type": "stream",
     "text": [
      "                                                                                \r"
     ]
    },
    {
     "data": {
      "image/png": "[encoded data removed]",
      "text/plain": [
       "<Figure size 864x576 with 1 Axes>"
      ]
     },
     "metadata": {
      "needs_background": "light"
     },
     "output_type": "display_data"
    }
   ],
   "source": [
    "# Now if we remove \"[deleted]\".\n",
    "author = author.filter(author.author != \"[deleted]\")\n",
    "\n",
    "# Create arrays for the plot\n",
    "author2 = author.select('author').rdd.flatMap(lambda x: x).collect()\n",
    "x_pos = np.arange(len(author2))\n",
    "occ = author.select('count').rdd.flatMap(lambda x: x).collect()\n",
    "\n",
    "#build the plot\n",
    "fig, ax = plt.subplots(figsize=(12,8))\n",
    "ax.bar(x_pos, occ, align='center', alpha=0.5)\n",
    "ax.set_ylabel('Count of users')\n",
    "ax.set_xticks(x_pos)\n",
    "ax.set_xticklabels(author2, rotation='vertical')\n",
    "ax.set_title('Frequent usernames posting downvoted comments')\n",
    "ax.yaxis.grid(True)\n",
    "plt.show()"
   ]
  },
  {
   "cell_type": "code",
   "execution_count": 14,
   "id": "11702f16-14f2-4ce3-886b-b24e9f7800be",
   "metadata": {},
   "outputs": [
    {
     "name": "stdout",
     "output_type": "stream",
     "text": [
      "Out of 2687779 comments, 0 were classified as controversial\n",
      "Out of 2687779 comments, 132657 were down voted\n"
     ]
    }
   ],
   "source": [
    "# Count of controversial comments\n",
    "controversial = reddit_contro.filter(reddit_contro.controversiality == 1)\n",
    "num_contro = controversial.count()\n",
    "print(f'Out of {data_frame.count()} comments, {num_contro} were classified as controversial')\n",
    "#print(data_frame.count())\n",
    "\n",
    "# Count negative comments\n",
    "print(f'Out of {data_frame.count()} comments, {num_negativ} were down voted')\n"
   ]
  },
  {
   "cell_type": "code",
   "execution_count": null,
   "id": "88cbab12-00e3-4e1e-97f1-83531ec3a61f",
   "metadata": {},
   "outputs": [],
   "source": []
  },
  {
   "cell_type": "code",
   "execution_count": 15,
   "id": "4b2421af-4429-44b4-923a-0676a54b1762",
   "metadata": {},
   "outputs": [
    {
     "name": "stderr",
     "output_type": "stream",
     "text": [
      "                                                                                \r"
     ]
    },
    {
     "name": "stdout",
     "output_type": "stream",
     "text": [
      "The total score for the downvoted comments were -515436\n",
      "The total score for the upvoted comments were 11592492\n",
      "The avrage score for upvoted comments is: 4.536962227243944\n",
      "The avrage score for downvoted comments is: -3.885479092697709\n"
     ]
    },
    {
     "name": "stderr",
     "output_type": "stream",
     "text": [
      "                                                                                \r"
     ]
    }
   ],
   "source": [
    "#Do negative comments gain the same amount of score as “regular” comments?\n",
    "# noncontroversial = reddit_contro.filter(reddit_contro.controversiality == 0)\n",
    "positive = reddit_contro.filter(col(\"score\") > -1)\n",
    "# Number of down voted comments\n",
    "num_neg = negativ.count()\n",
    "# Number of up voted or neutral comments comments\n",
    "num_pos = positive.count()\n",
    "\n",
    "\n",
    "\n",
    "\n",
    "# Avrage score for contro comments and non contro comments\n",
    "# Num cont score/num cont comments\n",
    "score_pos = positive.agg({'score': 'sum'}).collect()[0][0] \n",
    "avg_pos = score_pos/num_pos\n",
    "\n",
    "\n",
    "# Num non cont score/num non cont comments\n",
    "score_neg = negativ.agg({'score': 'sum'}).collect()[0][0]\n",
    "\n",
    "avg_neg = score_neg/num_neg\n",
    "\n",
    "print(f'The total score for the downvoted comments were {score_neg}')\n",
    "print(f'The total score for the upvoted comments were {score_pos}')\n",
    "print(f'The avrage score for upvoted comments is: {avg_pos}')\n",
    "print(f'The avrage score for downvoted comments is: {avg_neg}')\n"
   ]
  },
  {
   "cell_type": "code",
   "execution_count": 16,
   "id": "d9a30c6e-c92e-4c03-bd2e-e1346a7e0bb3",
   "metadata": {},
   "outputs": [
    {
     "data": {
      "text/plain": [
       "Text(0.5, 1.0, 'Distribution up/down voted comments')"
      ]
     },
     "execution_count": 16,
     "metadata": {},
     "output_type": "execute_result"
    },
    {
     "data": {
      "image/png": "[encoded data removed]",
      "text/plain": [
       "<Figure size 432x288 with 1 Axes>"
      ]
     },
     "metadata": {},
     "output_type": "display_data"
    }
   ],
   "source": [
    "\n",
    "%matplotlib inline\n",
    "\n",
    "# Pie chart, where the slices will be ordered and plotted counter-clockwise:\n",
    "labels = ['Upvoted', 'Downvoted']\n",
    "sizes = [num_pos, num_neg]\n",
    "\n",
    "\n",
    "fig, ax = plt.subplots()\n",
    "ax.pie(sizes, labels=labels, autopct='%1.1f%%')\n",
    "ax.axis('equal')  # Equal aspect ratio ensures the pie chart is circular.\n",
    "ax.set_title('Distribution up/down voted comments')"
   ]
  },
  {
   "cell_type": "code",
   "execution_count": null,
   "id": "59e03884-f64c-470c-9f1c-6c063f004d6c",
   "metadata": {},
   "outputs": [],
   "source": []
  },
  {
   "cell_type": "code",
   "execution_count": 17,
   "id": "0a51f418-de95-4ab1-98a0-786f8ca85486",
   "metadata": {},
   "outputs": [
    {
     "name": "stderr",
     "output_type": "stream",
     "text": [
      "[Stage 45:==========================================>              (9 + 3) / 12]\r"
     ]
    },
    {
     "name": "stdout",
     "output_type": "stream",
     "text": [
      "+-----------------+-----+\n",
      "|        subreddit|count|\n",
      "+-----------------+-----+\n",
      "|       MensRights|  587|\n",
      "|            anime|   37|\n",
      "|            scifi|  314|\n",
      "|           hockey|  108|\n",
      "|        australia|  147|\n",
      "|        chemistry|    2|\n",
      "|              PS3|   87|\n",
      "|            space|  151|\n",
      "|        Marijuana|  167|\n",
      "|           iphone|   42|\n",
      "|    Documentaries|   12|\n",
      "|        AskReddit|20844|\n",
      "|           videos| 1270|\n",
      "|ideasfortheadmins|   17|\n",
      "|            4chan|   62|\n",
      "|            Drugs|  185|\n",
      "|       web_design|  297|\n",
      "|        feminisms|   97|\n",
      "|          chicago|    8|\n",
      "|            shill|    3|\n",
      "+-----------------+-----+\n",
      "only showing top 20 rows\n",
      "\n"
     ]
    },
    {
     "name": "stderr",
     "output_type": "stream",
     "text": [
      "                                                                                \r"
     ]
    }
   ],
   "source": [
    "#What subreddits (according to this data) is considered to be have more downvoted comments?\n",
    "subreddits = negativ.groupBy('subreddit').count()\n",
    "subreddits.sort(col(\"count\").desc())\n",
    "subreddits.show(20)"
   ]
  },
  {
   "cell_type": "code",
   "execution_count": 18,
   "id": "f89557ad-2f90-4c62-9c0b-6aee6834e8d4",
   "metadata": {},
   "outputs": [
    {
     "name": "stderr",
     "output_type": "stream",
     "text": [
      "                                                                                \r"
     ]
    },
    {
     "data": {
      "image/png": "[encoded data removed]",
      "text/plain": [
       "<Figure size 864x576 with 1 Axes>"
      ]
     },
     "metadata": {
      "needs_background": "light"
     },
     "output_type": "display_data"
    }
   ],
   "source": [
    "subreddits = subreddits.filter(col(\"count\") > 800)\n",
    "subreddits = subreddits.filter(subreddits.subreddit != \"\")\n",
    "# Create arrays for the plot\n",
    "sub = subreddits.select('subreddit').rdd.flatMap(lambda x: x).collect()\n",
    "x_pos = np.arange(len(sub))\n",
    "sub_occ = subreddits.select('count').rdd.flatMap(lambda x: x).collect()\n",
    "\n",
    "#build the plot\n",
    "fig, ax = plt.subplots(figsize=(12,8))\n",
    "ax.bar(x_pos, sub_occ, align='center', alpha=0.5)\n",
    "ax.set_ylabel('Count of words')\n",
    "ax.set_xticks(x_pos)\n",
    "ax.set_xticklabels(sub, rotation='vertical')\n",
    "ax.set_title('Frequently occurring words in comments')\n",
    "ax.yaxis.grid(True)\n",
    "plt.show()"
   ]
  },
  {
   "cell_type": "code",
   "execution_count": 19,
   "id": "eaa0db9e-de69-453b-9aac-32ce0ec89d28",
   "metadata": {},
   "outputs": [
    {
     "name": "stdout",
     "output_type": "stream",
     "text": [
      "+--------------------+\n",
      "|                body|\n",
      "+--------------------+\n",
      "|He is. Also, his ...|\n",
      "|           [deleted]|\n",
      "|WHAT. Are you ser...|\n",
      "|Also see the whit...|\n",
      "|1.  Agreed, but i...|\n",
      "+--------------------+\n",
      "only showing top 5 rows\n",
      "\n"
     ]
    }
   ],
   "source": [
    "#What keywords are often used in controversial comments?\n",
    "\n",
    "words = negativ.drop('author', 'controversiality', 'score', 'subreddit', 'score_hidden')\n",
    "words.show(5)"
   ]
  },
  {
   "cell_type": "code",
   "execution_count": 20,
   "id": "83f5a35a-73f9-4e71-a429-559afedc9c99",
   "metadata": {},
   "outputs": [
    {
     "name": "stdout",
     "output_type": "stream",
     "text": [
      "+--------------------+---------+\n",
      "|                body|wordCount|\n",
      "+--------------------+---------+\n",
      "|He is. Also, his ...|       92|\n",
      "|           [deleted]|        1|\n",
      "|WHAT. Are you ser...|       52|\n",
      "|Also see the whit...|       52|\n",
      "|1.  Agreed, but i...|      114|\n",
      "|Several of the po...|       57|\n",
      "|  Not drinking.  ;-)|        4|\n",
      "|Just learn HTML i...|       62|\n",
      "|women are manipul...|       12|\n",
      "|I preferred the [...|        9|\n",
      "|           [deleted]|        1|\n",
      "|           [deleted]|        1|\n",
      "|           [deleted]|        1|\n",
      "|           [deleted]|        1|\n",
      "|would women like ...|       14|\n",
      "|           [deleted]|        1|\n",
      "|Yeah, stellar ref...|       18|\n",
      "|I get it - becaus...|       29|\n",
      "|           [deleted]|        1|\n",
      "|Says the guy who ...|       11|\n",
      "+--------------------+---------+\n",
      "only showing top 20 rows\n",
      "\n"
     ]
    }
   ],
   "source": [
    "# count words for each comment.\n",
    "words = words.withColumn('wordCount', f.size(f.split(f.col('body'), ' ')))\n",
    "words.show()"
   ]
  },
  {
   "cell_type": "code",
   "execution_count": 21,
   "id": "1bc67a4d-cb30-4eb9-a1db-c26ac5bca36b",
   "metadata": {},
   "outputs": [
    {
     "name": "stderr",
     "output_type": "stream",
     "text": [
      "[Stage 56:===================================================>    (11 + 1) / 12]\r"
     ]
    },
    {
     "name": "stdout",
     "output_type": "stream",
     "text": [
      "+----+------+\n",
      "|word| count|\n",
      "+----+------+\n",
      "| the|140507|\n",
      "|  to|102316|\n",
      "|   a| 90107|\n",
      "|    | 79191|\n",
      "|  of| 73750|\n",
      "+----+------+\n",
      "only showing top 5 rows\n",
      "\n"
     ]
    },
    {
     "name": "stderr",
     "output_type": "stream",
     "text": [
      "                                                                                \r"
     ]
    }
   ],
   "source": [
    "# Count instance of word occurring\n",
    "words = words.withColumn('word', f.explode(f.split(f.col('body'), ' ')))\\\n",
    "    .groupBy('word')\\\n",
    "    .count()\\\n",
    "    .sort('count', ascending=False)\n",
    "words.show(5)"
   ]
  },
  {
   "cell_type": "code",
   "execution_count": 22,
   "id": "d059b978-ce4e-4505-a90b-4504b8cae5b3",
   "metadata": {},
   "outputs": [
    {
     "name": "stderr",
     "output_type": "stream",
     "text": [
      "[Stage 59:==============================================>         (10 + 2) / 12]\r"
     ]
    },
    {
     "name": "stdout",
     "output_type": "stream",
     "text": [
      "+----+------+\n",
      "|word| count|\n",
      "+----+------+\n",
      "| the|140507|\n",
      "|  to|102316|\n",
      "|   a| 90107|\n",
      "|  of| 73750|\n",
      "| and| 72251|\n",
      "|  is| 60617|\n",
      "|   I| 59781|\n",
      "| you| 58315|\n",
      "|that| 54295|\n",
      "|  in| 43337|\n",
      "|  it| 35208|\n",
      "| for| 32820|\n",
      "| are| 28857|\n",
      "| not| 26811|\n",
      "|have| 25000|\n",
      "|  be| 24429|\n",
      "|  on| 22823|\n",
      "|with| 22473|\n",
      "|this| 20108|\n",
      "|your| 19934|\n",
      "+----+------+\n",
      "only showing top 20 rows\n",
      "\n"
     ]
    },
    {
     "name": "stderr",
     "output_type": "stream",
     "text": [
      "                                                                                \r"
     ]
    }
   ],
   "source": [
    "words2 = words.filter(col(\"count\") > 5000)\n",
    "words2 = words2.filter(words2.word != \"\")\n",
    "words2.show()"
   ]
  },
  {
   "cell_type": "code",
   "execution_count": 23,
   "id": "c6c005a4-9c64-4ebc-9959-b99f2440d3ae",
   "metadata": {},
   "outputs": [
    {
     "name": "stderr",
     "output_type": "stream",
     "text": [
      "                                                                                \r"
     ]
    },
    {
     "data": {
      "image/png": "[encoded data removed]",
      "text/plain": [
       "<Figure size 864x576 with 1 Axes>"
      ]
     },
     "metadata": {
      "needs_background": "light"
     },
     "output_type": "display_data"
    }
   ],
   "source": [
    "# Create arrays for the plot\n",
    "words3 = words2.select('word').rdd.flatMap(lambda x: x).collect()\n",
    "x_pos = np.arange(len(words3))\n",
    "counts = words2.select('count').rdd.flatMap(lambda x: x).collect()\n",
    "\n",
    "#build the plot\n",
    "fig, ax = plt.subplots(figsize=(12,8))\n",
    "ax.bar(x_pos, counts, align='center', alpha=0.5)\n",
    "ax.set_ylabel('Count of words')\n",
    "ax.set_xticks(x_pos)\n",
    "ax.set_xticklabels(words3, rotation='vertical')\n",
    "ax.set_title('Frequently occurring words in comments')\n",
    "ax.yaxis.grid(True)\n",
    "\n",
    "\n",
    "# Save the figure and show\n",
    "#plt.tight_layout()\n",
    "#plt.savefig('words_bar_plot.png')\n",
    "plt.show()"
   ]
  },
  {
   "cell_type": "code",
   "execution_count": 24,
   "id": "05181ebd-e788-48de-aa9d-dedadba9f6cb",
   "metadata": {},
   "outputs": [],
   "source": [
    "# release the cores for another application!\n",
    "spark_context.stop()"
   ]
  },
  {
   "cell_type": "code",
   "execution_count": null,
   "id": "01fa0c80-8a8b-48f1-9ca0-337f2f871e15",
   "metadata": {},
   "outputs": [],
   "source": []
  }
 ],
 "metadata": {
  "kernelspec": {
   "display_name": "Python 3 (ipykernel)",
   "language": "python",
   "name": "python3"
  },
  "language_info": {
   "codemirror_mode": {
    "name": "ipython",
    "version": 3
   },
   "file_extension": ".py",
   "mimetype": "text/x-python",
   "name": "python",
   "nbconvert_exporter": "python",
   "pygments_lexer": "ipython3",
   "version": "3.8.10"
  }
 },
 "nbformat": 4,
 "nbformat_minor": 5
}
