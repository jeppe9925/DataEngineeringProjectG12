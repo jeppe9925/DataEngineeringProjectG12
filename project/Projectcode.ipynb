{
 "cells": [
  {
   "cell_type": "code",
   "execution_count": 1,
   "id": "2d3b899e-4021-457f-b471-a29cc20d403c",
   "metadata": {},
   "outputs": [
    {
     "name": "stderr",
     "output_type": "stream",
     "text": [
      "WARNING: An illegal reflective access operation has occurred\n",
      "WARNING: Illegal reflective access by org.apache.spark.unsafe.Platform (file:/home/ubuntu/spark-3.2.1-bin-hadoop3.2/jars/spark-unsafe_2.12-3.2.1.jar) to constructor java.nio.DirectByteBuffer(long,int)\n",
      "WARNING: Please consider reporting this to the maintainers of org.apache.spark.unsafe.Platform\n",
      "WARNING: Use --illegal-access=warn to enable warnings of further illegal reflective access operations\n",
      "WARNING: All illegal access operations will be denied in a future release\n",
      "Using Spark's default log4j profile: org/apache/spark/log4j-defaults.properties\n",
      "Setting default log level to \"WARN\".\n",
      "To adjust logging level use sc.setLogLevel(newLevel). For SparkR, use setLogLevel(newLevel).\n",
      "22/03/24 14:29:12 WARN NativeCodeLoader: Unable to load native-hadoop library for your platform... using builtin-java classes where applicable\n",
      "22/03/24 14:29:14 WARN ExecutorAllocationManager: Dynamic allocation without a shuffle service is an experimental feature.\n"
     ]
    }
   ],
   "source": [
    "from pyspark.sql import SparkSession\n",
    "from operator import add\n",
    "# spark://192.168.2.101:7077\n",
    "# New API\n",
    "spark_session = SparkSession\\\n",
    "        .builder\\\n",
    "        .master(\"spark://192.168.2.101:7077\") \\\n",
    "        .appName(\"Group12-project_jesper\")\\\n",
    "        .config(\"spark.executor.cores\",4)\\\n",
    "        .config(\"spark.dynamicAllocation.enabled\", True)\\\n",
    "        .config(\"spark.dynamicAllocation.shuffleTracking.enabled\", True)\\\n",
    "        .config(\"spark.shuffle.service.enabled\", False)\\\n",
    "        .config(\"spark.dynamicAllocation.executorIdleTimeout\",\"30s\")\\\n",
    "        .config(\"spark.driver.port\",9998)\\\n",
    "        .config(\"spark.blockManager.port\",10005)\\\n",
    "        .getOrCreate()"
   ]
  },
  {
   "cell_type": "code",
   "execution_count": 2,
   "id": "93ea2b2c-8139-4d4f-a268-cf372e9fe63b",
   "metadata": {},
   "outputs": [],
   "source": [
    "# Old API (RDD)\n",
    "spark_context = spark_session.sparkContext\n",
    "\n",
    "spark_context.setLogLevel(\"ERROR\")"
   ]
  },
  {
   "cell_type": "code",
   "execution_count": null,
   "id": "64dbb8df-4bdf-4642-8274-d409cede7d5c",
   "metadata": {},
   "outputs": [],
   "source": []
  },
  {
   "cell_type": "code",
   "execution_count": 3,
   "id": "c43aabfa-0bc8-47a3-8989-8121d50dc76a",
   "metadata": {},
   "outputs": [
    {
     "name": "stderr",
     "output_type": "stream",
     "text": [
      "                                                                                \r"
     ]
    }
   ],
   "source": [
    "data_frame = spark_session.read\\\n",
    "            .option(\"header\", \"true\")\\\n",
    "            .json(\"hdfs://localhost:9000/user/ubuntu/project/RC_2006-03\")\\\n",
    "            .cache()"
   ]
  },
  {
   "cell_type": "code",
   "execution_count": 4,
   "id": "cf233533-efaa-43b3-8cbb-ca0734d86c40",
   "metadata": {},
   "outputs": [
    {
     "name": "stderr",
     "output_type": "stream",
     "text": [
      "                                                                                \r"
     ]
    },
    {
     "name": "stdout",
     "output_type": "stream",
     "text": [
      "+--------+----------------------+-----------------+--------------------+----------------+-----------+-------------+------+------+-----+-------+---------+------------+-----+--------+----------+------------+---+\n",
      "|  author|author_flair_css_class|author_flair_text|                body|controversiality|created_utc|distinguished|edited|gilded|   id|link_id|parent_id|retrieved_on|score|stickied| subreddit|subreddit_id|ups|\n",
      "+--------+----------------------+-----------------+--------------------+----------------+-----------+-------------+------+------+-----+-------+---------+------------+-----+--------+----------+------------+---+\n",
      "|enjahova|                  null|             null|It's not garbage,...|               0| 1141171505|         null| false|     0|c2id4|t3_2cms| t1_c2g7c|  1473821737|    4|   false|reddit.com|        t5_6|  4|\n",
      "|  arakyd|                  null|             null|Actually, it's ni...|               0| 1141171952|         null| false|     0|c2ie5|t3_2aru| t1_c2ic7|  1473821737|    6|   false|reddit.com|        t5_6|  6|\n",
      "|   olegk|                  null|             null|I've read them, a...|               0| 1141171980|         null| false|     0|c2ie6|t3_2cnu|  t3_2cnu|  1473821737|   -4|   false|reddit.com|        t5_6| -4|\n",
      "|  duckie|                  null|             null|If you look at a ...|               0| 1141172269|         null| false|     0|c2ier|t3_2byl| t1_c2i6t|  1473821738|    3|   false|reddit.com|        t5_6|  3|\n",
      "|  arakyd|                  null|             null|That's true, but ...|               0| 1141172372|         null| false|     0|c2if0|t3_2aru| t1_c2dzl|  1473821738|    2|   false|reddit.com|        t5_6|  2|\n",
      "+--------+----------------------+-----------------+--------------------+----------------+-----------+-------------+------+------+-----+-------+---------+------------+-----+--------+----------+------------+---+\n",
      "only showing top 5 rows\n",
      "\n"
     ]
    }
   ],
   "source": [
    "data_frame.show(5)"
   ]
  },
  {
   "cell_type": "code",
   "execution_count": 5,
   "id": "2679f7ae",
   "metadata": {},
   "outputs": [
    {
     "name": "stdout",
     "output_type": "stream",
     "text": [
      "+--------+--------------------+----------------+-----------+-----+------------+-----+--------+----------+---+\n",
      "|  author|                body|controversiality|created_utc|   id|retrieved_on|score|stickied| subreddit|ups|\n",
      "+--------+--------------------+----------------+-----------+-----+------------+-----+--------+----------+---+\n",
      "|enjahova|It's not garbage,...|               0| 1141171505|c2id4|  1473821737|    4|   false|reddit.com|  4|\n",
      "|  arakyd|Actually, it's ni...|               0| 1141171952|c2ie5|  1473821737|    6|   false|reddit.com|  6|\n",
      "|   olegk|I've read them, a...|               0| 1141171980|c2ie6|  1473821737|   -4|   false|reddit.com| -4|\n",
      "|  duckie|If you look at a ...|               0| 1141172269|c2ier|  1473821738|    3|   false|reddit.com|  3|\n",
      "|  arakyd|That's true, but ...|               0| 1141172372|c2if0|  1473821738|    2|   false|reddit.com|  2|\n",
      "+--------+--------------------+----------------+-----------+-----+------------+-----+--------+----------+---+\n",
      "only showing top 5 rows\n",
      "\n"
     ]
    }
   ],
   "source": [
    "data_frame = data_frame.drop('author_flair_css_class', 'distinguished', 'author_flair_text', 'edited', 'gilded', 'link_id','parent_id', 'subreddit_id')\n",
    "data_frame.show(5)"
   ]
  },
  {
   "cell_type": "code",
   "execution_count": 6,
   "id": "953dd4f0-2f1e-4658-b3ff-f0bc0cf4931c",
   "metadata": {},
   "outputs": [],
   "source": [
    "from pyspark.sql.functions import countDistinct\n",
    "from pyspark.sql.functions import *\n",
    "import pandas as pd\n",
    "import matplotlib.pyplot as plot\n",
    "import numpy as np\n",
    "import matplotlib.pyplot as plt\n",
    "import pyspark.sql.functions as f"
   ]
  },
  {
   "cell_type": "code",
   "execution_count": 7,
   "id": "1df84f70-3e84-4c0c-996a-e6cdc764a24b",
   "metadata": {},
   "outputs": [
    {
     "name": "stderr",
     "output_type": "stream",
     "text": [
      "[Stage 3:=============================>                             (1 + 1) / 2]\r"
     ]
    },
    {
     "name": "stdout",
     "output_type": "stream",
     "text": [
      "+-----------+--------------------+----------------+-----------+-----+------------+-----+--------+----------+---+\n",
      "|     author|                body|controversiality|created_utc|   id|retrieved_on|score|stickied| subreddit|ups|\n",
      "+-----------+--------------------+----------------+-----------+-----+------------+-----+--------+----------+---+\n",
      "|    the_po8|Utter right-wing ...|               0| 1141921654|c2vvo|  1473821990|  -95|   false|reddit.com|-95|\n",
      "|        e40|Don't post links ...|               0| 1142451416|c34nk|  1473822151|  -52|   false|reddit.com|-52|\n",
      "|  [deleted]|Don't mod down co...|               0| 1142451689|c34nv|  1473822151|  -46|   false|reddit.com|-46|\n",
      "|     terry2|so what !?!.. and...|               0| 1142282442|c31am|  1473822090|  -36|   false|reddit.com|-36|\n",
      "|  [deleted]|           [deleted]|               0| 1143081877|c3fga|  1473822350|  -36|   false|reddit.com|-36|\n",
      "|  [deleted]|What is the \"righ...|               0| 1143074237|c3fa1|  1473822346|  -31|   false|reddit.com|-31|\n",
      "|  [deleted]|Federal V.I.P. Pe...|               0| 1142532910|c36r1|  1473822190|  -29|   false|reddit.com|-29|\n",
      "|  illiaster|Yes, the govermen...|               0| 1141420233|c2p39|  1473821864|  -28|   false|reddit.com|-28|\n",
      "|   tjdziuba|Surprise...this t...|               0| 1142912996|c3bwr|  1473822285|  -28|   false|reddit.com|-28|\n",
      "|  smakusdod|She should have g...|               0| 1143737842|c3pm6|  1473822535|  -27|   false|reddit.com|-27|\n",
      "|  [deleted]|you could at leas...|               0| 1143463712|c3khm|  1473822442|  -27|   false|reddit.com|-27|\n",
      "|       bitz|Dont bother with ...|               0| 1142520951|c36g2|  1473822184|  -26|   false|reddit.com|-26|\n",
      "| quentinnuk|It is right-wing ...|               0| 1143811063|c3qr5|  1473822556|  -26|   false|reddit.com|-26|\n",
      "|     fergie|this article is u...|               0| 1143806129|c3qp6|  1473822554|  -25|   false|reddit.com|-25|\n",
      "|        bkz|\"I know this, I d...|               0| 1142623312|c38b7|  1473822219|  -25|   false|reddit.com|-25|\n",
      "|schwarzwald|thousands of word...|               0| 1141513962|c2q9w|  1473821887|  -24|   false|reddit.com|-24|\n",
      "|  alexvenom|                test|               0| 1141320180|c2n0u|  1473821826|  -23|   false|reddit.com|-23|\n",
      "|   vanjulio|This provokes my ...|               0| 1141241600|c2l23|  1473821792|  -23|   false|reddit.com|-23|\n",
      "|   jonbliss|This is really ol...|               0| 1142545585|c372g|  1473822195|  -23|   false|reddit.com|-23|\n",
      "|  [deleted]|           [deleted]|               0| 1141858027|c2v5d|  1473821976|  -23|   false|reddit.com|-23|\n",
      "|        nir|1. I understand w...|               0| 1143540007|c3m4z|  1473822471|  -22|   false|reddit.com|-22|\n",
      "|  [deleted]|           [deleted]|               0| 1142271332|c311h|  1473822084|  -22|   false|reddit.com|-22|\n",
      "|  [deleted]|You wonder why ma...|               1| 1143074441|c3fa6|  1473822346|  -21|   false|reddit.com|-21|\n",
      "|  [deleted]|           [deleted]|               0| 1142112913|c2yck|  1473822036|  -20|   false|reddit.com|-20|\n",
      "|  [deleted]|If your comment i...|               0| 1142460261|c34y5|  1473822156|  -20|   false|reddit.com|-20|\n",
      "|  [deleted]|           [deleted]|               0| 1143056289|c3evm|  1473822339|  -20|   false|reddit.com|-20|\n",
      "|  [deleted]|           [deleted]|               0| 1143653176|c3o7x|  1473822510|  -20|   false|reddit.com|-20|\n",
      "|  alexvenom|               drhdh|               0| 1141320227|c2n0y|  1473821826|  -19|   false|reddit.com|-19|\n",
      "|  [deleted]|Or perhaps in rea...|               0| 1143819827|c3qx1|  1473822558|  -19|   false|reddit.com|-19|\n",
      "|  [deleted]|&gt; What is righ...|               0| 1143075473|c3faz|  1473822348|  -19|   false|reddit.com|-19|\n",
      "+-----------+--------------------+----------------+-----------+-----+------------+-----+--------+----------+---+\n",
      "only showing top 30 rows\n",
      "\n"
     ]
    },
    {
     "name": "stderr",
     "output_type": "stream",
     "text": [
      "                                                                                \r"
     ]
    }
   ],
   "source": [
    "data_frame.sort(col(\"score\")).show(30)"
   ]
  },
  {
   "cell_type": "code",
   "execution_count": 8,
   "id": "70af64d2-2bef-47a6-a739-95d5b3171653",
   "metadata": {},
   "outputs": [
    {
     "name": "stdout",
     "output_type": "stream",
     "text": [
      "+-----------+---------------------------------+----------------+-----+----------+\n",
      "|     author|                             body|controversiality|score| subreddit|\n",
      "+-----------+---------------------------------+----------------+-----+----------+\n",
      "|   enjahova|             It's not garbage,...|               0|    4|reddit.com|\n",
      "|     arakyd|             Actually, it's ni...|               0|    6|reddit.com|\n",
      "|      olegk|             I've read them, a...|               0|   -4|reddit.com|\n",
      "|     duckie|             If you look at a ...|               0|    3|reddit.com|\n",
      "|     arakyd|             That's true, but ...|               0|    2|reddit.com|\n",
      "|johnny_yuma|             High school drop ...|               0|    0|reddit.com|\n",
      "|  [deleted]|                        [deleted]|               0|    2|reddit.com|\n",
      "|   johnmudd|             They put the powe...|               0|    0|reddit.com|\n",
      "|     iwadon|手元のiCalでも化けていたので、...|               0|    1|        ja|\n",
      "|     kelyse|             or, download the ...|               0|    1|reddit.com|\n",
      "+-----------+---------------------------------+----------------+-----+----------+\n",
      "only showing top 10 rows\n",
      "\n"
     ]
    }
   ],
   "source": [
    "reddit_contro = data_frame.drop('id', 'created_utc', 'retrieved_on', 'stickied', 'ups')\n",
    "reddit_contro.show(10)"
   ]
  },
  {
   "cell_type": "code",
   "execution_count": 9,
   "id": "7a57ca1a-6224-42c8-a4ca-9f9014c20361",
   "metadata": {},
   "outputs": [
    {
     "name": "stdout",
     "output_type": "stream",
     "text": [
      "+-----------+--------------------+----------------+-----+----------+\n",
      "|     author|                body|controversiality|score| subreddit|\n",
      "+-----------+--------------------+----------------+-----+----------+\n",
      "|  [deleted]|You wonder why ma...|               1|  -21|reddit.com|\n",
      "|  [deleted]|Don't mod somethi...|               1|  -15|reddit.com|\n",
      "|    lowdown|Don't post origin...|               1|  -12|reddit.com|\n",
      "|      kirkt|A hypocitical lib...|               1|  -11|reddit.com|\n",
      "|EliGottlieb|Great, another pl...|               1|  -11|reddit.com|\n",
      "|     maxhrk|wow. Church Quit ...|               1|  -10|reddit.com|\n",
      "|      subie|thanks for the hi...|               1|   -9|reddit.com|\n",
      "|      kirkt|junk science.  wh...|               1|   -7|reddit.com|\n",
      "|  [deleted]|And what does tha...|               1|   -7|reddit.com|\n",
      "|        chu|Completely incohe...|               1|   -7|reddit.com|\n",
      "|  [deleted]|So much for Paul ...|               1|   -7|reddit.com|\n",
      "|  [deleted]|Summary:\\r\\n&gt;R...|               1|   -7|reddit.com|\n",
      "|  [deleted]|OMFG.\\r\\n\\r\\nThe ...|               1|   -7|reddit.com|\n",
      "|  [deleted]|           [deleted]|               1|   -6|reddit.com|\n",
      "|EliGottlieb|Who cares about J...|               1|   -6|reddit.com|\n",
      "|  [deleted]|           [deleted]|               1|   -6|reddit.com|\n",
      "| karmadillo|The comment you a...|               1|   -6|reddit.com|\n",
      "|  [deleted]|As long as it cos...|               1|   -6|reddit.com|\n",
      "|  [deleted]|That logic doesn'...|               1|   -6|reddit.com|\n",
      "|    modulus|What for? So they...|               1|   -6|reddit.com|\n",
      "|  [deleted]|Eh, lucky for the...|               1|   -6|reddit.com|\n",
      "|  [deleted]|          fuck jesus|               1|   -6|reddit.com|\n",
      "|  predditor|politics.reddit.c...|               1|   -5|reddit.com|\n",
      "|  Godspiral|I understand lisp...|               1|   -5|reddit.com|\n",
      "| yellowking|Deleting in prote...|               1|   -5|reddit.com|\n",
      "| yellowking|Deleting in prote...|               1|   -5|reddit.com|\n",
      "|  kanetrain|His main argument...|               1|   -5|reddit.com|\n",
      "|  [deleted]|*Scam: A fraudule...|               1|   -5|reddit.com|\n",
      "|  [deleted]|The thing about W...|               1|   -5|reddit.com|\n",
      "|      adnam|Did he die of bor...|               1|   -5|reddit.com|\n",
      "+-----------+--------------------+----------------+-----+----------+\n",
      "only showing top 30 rows\n",
      "\n"
     ]
    }
   ],
   "source": [
    "#reddit_contro.sort(col(\"controversiality\").desc()).show(30)\n",
    "\n",
    "\n",
    "reddit_contro.orderBy(col(\"controversiality\").desc(), col(\"score\").asc()).show(30)"
   ]
  },
  {
   "cell_type": "code",
   "execution_count": 10,
   "id": "593935cd-6936-4937-b6de-0c0d6c3f772b",
   "metadata": {},
   "outputs": [
    {
     "name": "stdout",
     "output_type": "stream",
     "text": [
      "+-----------+--------------------+----------------+-----+----------+\n",
      "|     author|                body|controversiality|score| subreddit|\n",
      "+-----------+--------------------+----------------+-----+----------+\n",
      "|   Odysseus|Maybe kill the ad...|               1|   -2|reddit.com|\n",
      "|tomwill2000|             how sad|               1|    4|reddit.com|\n",
      "|   fnord123|&gt;\"We'll take t...|               1|   -1|reddit.com|\n",
      "|       spez|Yes, it was recen...|               1|    3|reddit.com|\n",
      "|   paperhat|What is this Brit...|               1|    5|reddit.com|\n",
      "+-----------+--------------------+----------------+-----+----------+\n",
      "only showing top 5 rows\n",
      "\n"
     ]
    }
   ],
   "source": [
    "#Are most of the controversial comments created by the same author?\n",
    "controversial = reddit_contro.filter(reddit_contro.controversiality == 1)\n",
    "\n",
    "# Controversial comments count\n",
    "num_contro = controversial.count()\n",
    "controversial_names = controversial.filter(reddit_contro.body != \"[deleted]\")\n",
    "controversial_names.show(5)\n"
   ]
  },
  {
   "cell_type": "code",
   "execution_count": 11,
   "id": "d87a7efa-c8a1-4191-a6d4-7dda216c9c9f",
   "metadata": {},
   "outputs": [
    {
     "name": "stdout",
     "output_type": "stream",
     "text": [
      "+-------------+-----+\n",
      "|       author|count|\n",
      "+-------------+-----+\n",
      "|    [deleted]|  220|\n",
      "| lupin_sansei|   27|\n",
      "|      lowdown|   14|\n",
      "|       TronXD|   12|\n",
      "|  EliGottlieb|   11|\n",
      "|     JimThome|   11|\n",
      "|      Taladar|   10|\n",
      "|        olegk|    9|\n",
      "|     johnmudd|    8|\n",
      "|    illiaster|    8|\n",
      "|johnroman1970|    8|\n",
      "|   paulgraham|    8|\n",
      "|     akkartik|    7|\n",
      "|          chu|    7|\n",
      "|   yellowking|    7|\n",
      "|   mikepurvis|    6|\n",
      "|       hopper|    6|\n",
      "|         bitz|    5|\n",
      "|         spez|    5|\n",
      "|         fnot|    5|\n",
      "+-------------+-----+\n",
      "only showing top 20 rows\n",
      "\n"
     ]
    }
   ],
   "source": [
    "author = controversial_names.groupBy('author').count()\n",
    "author.sort(col(\"count\").desc()).show(20)"
   ]
  },
  {
   "cell_type": "code",
   "execution_count": 12,
   "id": "d770e26a-eff0-42ff-b964-0654466532af",
   "metadata": {},
   "outputs": [
    {
     "name": "stderr",
     "output_type": "stream",
     "text": [
      "                                                                                \r"
     ]
    },
    {
     "data": {
      "image/png": "[encoded data removed]",
      "text/plain": [
       "<Figure size 864x576 with 1 Axes>"
      ]
     },
     "metadata": {
      "needs_background": "light"
     },
     "output_type": "display_data"
    }
   ],
   "source": [
    "author = author.filter(col(\"count\") > 5)\n",
    "author = author.filter(author.author != \"\")\n",
    "\n",
    "# Create arrays for the plot\n",
    "author2 = author.select('author').rdd.flatMap(lambda x: x).collect()\n",
    "x_pos = np.arange(len(author2))\n",
    "occ = author.select('count').rdd.flatMap(lambda x: x).collect()\n",
    "\n",
    "#build the plot\n",
    "fig, ax = plt.subplots(figsize=(12,8))\n",
    "ax.bar(x_pos, occ, align='center', alpha=0.5)\n",
    "ax.set_ylabel('Count of words')\n",
    "ax.set_xticks(x_pos)\n",
    "ax.set_xticklabels(author2, rotation='vertical')\n",
    "ax.set_title('Frequently occurring words in comments')\n",
    "ax.yaxis.grid(True)\n",
    "plt.show()"
   ]
  },
  {
   "cell_type": "code",
   "execution_count": 13,
   "id": "ea7b22c4-30d6-4644-a3e7-5d6b3caeb2bf",
   "metadata": {},
   "outputs": [
    {
     "data": {
      "image/png": "[encoded data removed]",
      "text/plain": [
       "<Figure size 864x576 with 1 Axes>"
      ]
     },
     "metadata": {
      "needs_background": "light"
     },
     "output_type": "display_data"
    }
   ],
   "source": [
    "# Now if we remove \"[deleted]\".\n",
    "author = author.filter(author.author != \"[deleted]\")\n",
    "\n",
    "# Create arrays for the plot\n",
    "author2 = author.select('author').rdd.flatMap(lambda x: x).collect()\n",
    "x_pos = np.arange(len(author2))\n",
    "occ = author.select('count').rdd.flatMap(lambda x: x).collect()\n",
    "\n",
    "#build the plot\n",
    "fig, ax = plt.subplots(figsize=(12,8))\n",
    "ax.bar(x_pos, occ, align='center', alpha=0.5)\n",
    "ax.set_ylabel('Count of words')\n",
    "ax.set_xticks(x_pos)\n",
    "ax.set_xticklabels(author2, rotation='vertical')\n",
    "ax.set_title('Frequently occurring words in comments')\n",
    "ax.yaxis.grid(True)\n",
    "plt.show()"
   ]
  },
  {
   "cell_type": "code",
   "execution_count": 14,
   "id": "8e63227e-9452-4d98-9ec0-dba485225ef6",
   "metadata": {},
   "outputs": [
    {
     "name": "stdout",
     "output_type": "stream",
     "text": [
      "Out of 13859 comments, 970 were classified as controversial\n"
     ]
    }
   ],
   "source": [
    "print(f'Out of {data_frame.count()} comments, {num_contro} were classified as controversial')\n",
    "#print(data_frame.count())"
   ]
  },
  {
   "cell_type": "code",
   "execution_count": 15,
   "id": "14c180a1-4d61-4ce8-a2dc-57a7a175d586",
   "metadata": {},
   "outputs": [
    {
     "name": "stdout",
     "output_type": "stream",
     "text": [
      "The total score for the controverisal comments were 155\n",
      "The total score for the non controverisal comments were 32423\n",
      "The avrage score for controersial comments is: 0.15979381443298968\n",
      "The avrage score for non controersial comments is: 2.515555900380169\n"
     ]
    }
   ],
   "source": [
    "#Do controversial comments gain the same amount of score as “regular” comments?\n",
    "noncontroversial = reddit_contro.filter(reddit_contro.controversiality == 0)\n",
    "\n",
    "# Number of controversial comments\n",
    "num_contro = controversial.count()\n",
    "# Number of non controversial comments\n",
    "num_noncontro = noncontroversial.count()\n",
    "\n",
    "\n",
    "\n",
    "\n",
    "# Avrage score for contro comments and non contro comments\n",
    "# Num cont score/num cont comments\n",
    "score_non = noncontroversial.agg({'score': 'sum'}).collect()[0][0] \n",
    "avg_non = score_non/num_noncontro\n",
    "\n",
    "\n",
    "# Num non cont score/num non cont comments\n",
    "score_cont = controversial.agg({'score': 'sum'}).collect()[0][0]\n",
    "\n",
    "avg_cont = score_cont/num_contro\n",
    "\n",
    "print(f'The total score for the controverisal comments were {score_cont}')\n",
    "print(f'The total score for the non controverisal comments were {score_non}')\n",
    "print(f'The avrage score for controersial comments is: {avg_cont}')\n",
    "print(f'The avrage score for non controersial comments is: {avg_non}')\n"
   ]
  },
  {
   "cell_type": "code",
   "execution_count": 16,
   "id": "fd08f103-d1f4-4fd2-896d-86d6ba59bc1d",
   "metadata": {},
   "outputs": [
    {
     "data": {
      "text/plain": [
       "Text(0.5, 1.0, 'Number of reddit comments')"
      ]
     },
     "execution_count": 16,
     "metadata": {},
     "output_type": "execute_result"
    },
    {
     "data": {
      "image/png": "[encoded data removed]",
      "text/plain": [
       "<Figure size 432x288 with 1 Axes>"
      ]
     },
     "metadata": {},
     "output_type": "display_data"
    }
   ],
   "source": [
    "# if using a Jupyter notebook, include:\n",
    "%matplotlib inline\n",
    "\n",
    "# Pie chart, where the slices will be ordered and plotted counter-clockwise:\n",
    "labels = ['Controversial', 'Non-controversial']\n",
    "sizes = [num_contro, num_noncontro]\n",
    "\n",
    "\n",
    "fig, ax = plt.subplots()\n",
    "ax.pie(sizes, labels=labels, autopct='%1.1f%%')\n",
    "ax.axis('equal')  # Equal aspect ratio ensures the pie chart is circular.\n",
    "ax.set_title('Number of reddit comments')"
   ]
  },
  {
   "cell_type": "code",
   "execution_count": 17,
   "id": "2d9dc8e8-8ceb-4da9-98b4-9fc808380ef0",
   "metadata": {},
   "outputs": [
    {
     "name": "stdout",
     "output_type": "stream",
     "text": [
      "If we now remove all datapoints were the score was 0 we get:\n",
      "The total score for the controverisal comments were 155 (same as before)\n",
      "The total score for the non controverisal comments were 32423 (same as before)\n",
      "The avrage score for controersial comments is: 0.2074966532797858\n",
      "The avrage score for non controersial comments is: 2.7811803053697033\n"
     ]
    }
   ],
   "source": [
    "print('If we now remove all datapoints were the score was 0 we get:')\n",
    "\n",
    "noncontroversial_2 = noncontroversial.filter(noncontroversial.score != 0)\n",
    "controversial_2 = controversial.filter(controversial.score != 0)\n",
    "\n",
    "# Number of controversial comments\n",
    "num_contro2 = controversial_2.count()\n",
    "# Number of non controversial comments\n",
    "num_noncontro2 = noncontroversial_2.count()\n",
    "\n",
    "\n",
    "\n",
    "\n",
    "# Avrage score for contro comments and non contro comments\n",
    "# Num cont score/num cont comments\n",
    "score_non2 = noncontroversial_2.agg({'score': 'sum'}).collect()[0][0] \n",
    "avg_non2 = score_non2/num_noncontro2\n",
    "\n",
    "\n",
    "# Num non cont score/num non cont comments\n",
    "score_cont2 = controversial_2.agg({'score': 'sum'}).collect()[0][0]\n",
    "\n",
    "avg_cont2 = score_cont2/num_contro2\n",
    "\n",
    "print(f'The total score for the controverisal comments were {score_cont2} (same as before)')\n",
    "print(f'The total score for the non controverisal comments were {score_non2} (same as before)')\n",
    "print(f'The avrage score for controersial comments is: {avg_cont2}')\n",
    "print(f'The avrage score for non controersial comments is: {avg_non2}')\n",
    "\n",
    "\n"
   ]
  },
  {
   "cell_type": "code",
   "execution_count": 18,
   "id": "0fcca2a0-2d76-4047-9236-9304fcea4d5e",
   "metadata": {},
   "outputs": [
    {
     "name": "stdout",
     "output_type": "stream",
     "text": [
      "+-----------+-----+\n",
      "|  subreddit|count|\n",
      "+-----------+-----+\n",
      "| reddit.com|  772|\n",
      "|programming|   49|\n",
      "|         ru|    1|\n",
      "+-----------+-----+\n",
      "\n"
     ]
    }
   ],
   "source": [
    "#What subreddits (according to this data) is considered to be “controversial”?\n",
    "subreddits = controversial_names.groupBy('subreddit').count()\n",
    "subreddits.sort(col(\"count\").desc()).show(20)"
   ]
  },
  {
   "cell_type": "code",
   "execution_count": 19,
   "id": "07a33d59-f6d8-4bae-852f-a8a8e79154d4",
   "metadata": {},
   "outputs": [
    {
     "name": "stdout",
     "output_type": "stream",
     "text": [
      "+--------------------+\n",
      "|                body|\n",
      "+--------------------+\n",
      "|           [deleted]|\n",
      "|Maybe kill the ad...|\n",
      "|             how sad|\n",
      "|&gt;\"We'll take t...|\n",
      "|Yes, it was recen...|\n",
      "+--------------------+\n",
      "only showing top 5 rows\n",
      "\n"
     ]
    }
   ],
   "source": [
    "#What keywords are often used in controversial comments?\n",
    "\n",
    "words = controversial.drop('author', 'controversiality', 'score', 'subreddit')\n",
    "words.show(5)"
   ]
  },
  {
   "cell_type": "code",
   "execution_count": 20,
   "id": "9a455392-8b54-4c8f-8d2b-b3a4b44bb840",
   "metadata": {},
   "outputs": [
    {
     "name": "stdout",
     "output_type": "stream",
     "text": [
      "+--------------------+---------+\n",
      "|                body|wordCount|\n",
      "+--------------------+---------+\n",
      "|           [deleted]|        1|\n",
      "|Maybe kill the ad...|        7|\n",
      "|             how sad|        2|\n",
      "|&gt;\"We'll take t...|       22|\n",
      "|Yes, it was recen...|       27|\n",
      "|What is this Brit...|       21|\n",
      "|thank you... \\r\\n...|      100|\n",
      "|One day, these pe...|       28|\n",
      "|Nice use of Infog...|        4|\n",
      "|Perhaps so, but t...|       38|\n",
      "|Heh. FastSeductio...|       60|\n",
      "|I still think it ...|        8|\n",
      "|what a dupe. http...|        4|\n",
      "|It's sad how many...|       34|\n",
      "|&gt; His code was...|       16|\n",
      "|\"The poll, conduc...|       25|\n",
      "|KNOWLEDGE = POWER...|       52|\n",
      "|         good comedy|        2|\n",
      "|I definitely will...|       33|\n",
      "|Speech, religion,...|       25|\n",
      "+--------------------+---------+\n",
      "only showing top 20 rows\n",
      "\n"
     ]
    }
   ],
   "source": [
    "\n",
    "words = words.withColumn('wordCount', f.size(f.split(f.col('body'), ' ')))\n",
    "words.show()"
   ]
  },
  {
   "cell_type": "code",
   "execution_count": 21,
   "id": "d39673f2-1770-4d99-9fcd-a29ac930de4b",
   "metadata": {},
   "outputs": [
    {
     "name": "stdout",
     "output_type": "stream",
     "text": [
      "+----+-----+\n",
      "|word|count|\n",
      "+----+-----+\n",
      "| the| 1403|\n",
      "|  to| 1047|\n",
      "|    |  863|\n",
      "|  of|  808|\n",
      "|   a|  802|\n",
      "+----+-----+\n",
      "only showing top 5 rows\n",
      "\n"
     ]
    }
   ],
   "source": [
    "words = words.withColumn('word', f.explode(f.split(f.col('body'), ' ')))\\\n",
    "    .groupBy('word')\\\n",
    "    .count()\\\n",
    "    .sort('count', ascending=False)\n",
    "words.show(5)"
   ]
  },
  {
   "cell_type": "code",
   "execution_count": 22,
   "id": "0f4ec011-db1f-4583-8770-53b465cd54be",
   "metadata": {},
   "outputs": [
    {
     "name": "stdout",
     "output_type": "stream",
     "text": [
      "+----+-----+\n",
      "|word|count|\n",
      "+----+-----+\n",
      "| the| 1403|\n",
      "|  to| 1047|\n",
      "|  of|  808|\n",
      "|   a|  802|\n",
      "|  is|  600|\n",
      "| and|  595|\n",
      "|that|  594|\n",
      "|   I|  504|\n",
      "|  in|  473|\n",
      "| you|  364|\n",
      "|  it|  339|\n",
      "| for|  325|\n",
      "| are|  293|\n",
      "|  be|  280|\n",
      "| not|  227|\n",
      "|have|  225|\n",
      "|with|  216|\n",
      "|this|  209|\n",
      "|  on|  194|\n",
      "|they|  190|\n",
      "+----+-----+\n",
      "only showing top 20 rows\n",
      "\n"
     ]
    }
   ],
   "source": [
    "words2 = words.filter(col(\"count\") > 70)\n",
    "words2 = words2.filter(words2.word != \"\")\n",
    "words2.show()"
   ]
  },
  {
   "cell_type": "code",
   "execution_count": 23,
   "id": "4dbc54e8-d27f-4a64-9a4e-44121f8e3f36",
   "metadata": {},
   "outputs": [
    {
     "data": {
      "image/png": "[encoded data removed]",
      "text/plain": [
       "<Figure size 864x576 with 1 Axes>"
      ]
     },
     "metadata": {
      "needs_background": "light"
     },
     "output_type": "display_data"
    }
   ],
   "source": [
    "# Create arrays for the plot\n",
    "words3 = words2.select('word').rdd.flatMap(lambda x: x).collect()\n",
    "x_pos = np.arange(len(words3))\n",
    "counts = words2.select('count').rdd.flatMap(lambda x: x).collect()\n",
    "\n",
    "#build the plot\n",
    "fig, ax = plt.subplots(figsize=(12,8))\n",
    "ax.bar(x_pos, counts, align='center', alpha=0.5)\n",
    "ax.set_ylabel('Count of words')\n",
    "ax.set_xticks(x_pos)\n",
    "ax.set_xticklabels(words3, rotation='vertical')\n",
    "ax.set_title('Frequently occurring words in comments')\n",
    "ax.yaxis.grid(True)\n",
    "\n",
    "\n",
    "# Save the figure and show\n",
    "#plt.tight_layout()\n",
    "#plt.savefig('words_bar_plot.png')\n",
    "plt.show()"
   ]
  },
  {
   "cell_type": "code",
   "execution_count": 24,
   "id": "2d05fe75-1f72-480a-8f5f-b00ea0b2bb25",
   "metadata": {},
   "outputs": [],
   "source": [
    "# release the cores for another application!\n",
    "spark_context.stop()"
   ]
  },
  {
   "cell_type": "code",
   "execution_count": null,
   "id": "e30e520d-e5a9-40fe-8ef7-675df221df85",
   "metadata": {},
   "outputs": [],
   "source": []
  },
  {
   "cell_type": "code",
   "execution_count": null,
   "id": "9814f096-378a-4238-affe-def56a30b012",
   "metadata": {},
   "outputs": [],
   "source": []
  },
  {
   "cell_type": "code",
   "execution_count": null,
   "id": "deabcea7-09f9-4b44-b580-ff754573c11b",
   "metadata": {},
   "outputs": [],
   "source": []
  }
 ],
 "metadata": {
  "kernelspec": {
   "display_name": "Python 3 (ipykernel)",
   "language": "python",
   "name": "python3"
  },
  "language_info": {
   "codemirror_mode": {
    "name": "ipython",
    "version": 3
   },
   "file_extension": ".py",
   "mimetype": "text/x-python",
   "name": "python",
   "nbconvert_exporter": "python",
   "pygments_lexer": "ipython3",
   "version": "3.8.10"
  }
 },
 "nbformat": 4,
 "nbformat_minor": 5
}
